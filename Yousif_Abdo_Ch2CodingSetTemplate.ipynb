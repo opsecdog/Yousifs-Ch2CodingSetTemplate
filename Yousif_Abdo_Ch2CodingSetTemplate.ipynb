{
  "nbformat": 4,
  "nbformat_minor": 0,
  "metadata": {
    "colab": {
      "provenance": [],
      "include_colab_link": true
    },
    "kernelspec": {
      "name": "python3",
      "display_name": "Python 3"
    },
    "language_info": {
      "name": "python"
    }
  },
  "cells": [
    {
      "cell_type": "markdown",
      "metadata": {
        "id": "view-in-github",
        "colab_type": "text"
      },
      "source": [
        "<a href=\"https://colab.research.google.com/github/opsecdog/Yousifs-Ch2CodingSetTemplate/blob/main/Yousif_Abdo_Ch2CodingSetTemplate.ipynb\" target=\"_parent\"><img src=\"https://colab.research.google.com/assets/colab-badge.svg\" alt=\"Open In Colab\"/></a>"
      ]
    },
    {
      "cell_type": "markdown",
      "source": [
        "# Chapter 2 Coding Set\n",
        "\n",
        "**Remember to save a copy of this template BEFORE YOU START WORKING :)**\n",
        "\n",
        "Work completed by [student name].\n",
        "\n",
        "If you struggle with a problem for an extended period of time, remember you can go comment on two other submissions now (seeing other student work helps), or you can post in our discussion forum for questions, which can also earn you extra credit."
      ],
      "metadata": {
        "id": "V_9gU-dva4Xx"
      }
    },
    {
      "cell_type": "markdown",
      "source": [
        "## Imports\n",
        "\n",
        "**If your program requires additional modules, external resources, or files, use this cell to set them up**"
      ],
      "metadata": {
        "id": "jW9S_3jcOdYt"
      }
    },
    {
      "cell_type": "code",
      "source": [
        "# configure your environment\n",
        "\n",
        "# you can uncomment this code to make use of files stored in your Google Drive\n",
        "# from google.colab import drive\n",
        "# drive.mount('/content/drive')\n",
        "\n",
        "# you can uncomment the following line of code to use the pandas library\n",
        "# import pandas as pd"
      ],
      "metadata": {
        "id": "mYW-OioYOu3g"
      },
      "execution_count": null,
      "outputs": []
    },
    {
      "cell_type": "markdown",
      "source": [
        "## Algorithm Workbench"
      ],
      "metadata": {
        "id": "VH4eGQyub8yQ"
      }
    },
    {
      "cell_type": "markdown",
      "source": [
        "\n",
        "\n",
        "```\n",
        "# This is formatted as code\n",
        "```\n",
        "\n",
        "### Problem **8**\n",
        "\n",
        "#### Question Text\n",
        "\n",
        "*8. Tip, Tax, and TotalWrite a program that calculates the total amount of a meal purchased at a restaurant. The program should ask the user to enter the charge for the food, then calculate the amounts of a 18 percent tip and 7 percent sales tax. Display each of these amounts and the total.*\n",
        "\n",
        "#### High-Level Overview\n",
        "\n",
        "*In two to three sentences at minimum, walk through your general approach to the problem and identify any particular issues you had.*\n",
        "\n",
        "[Please double click this cell and update the problem number above, choosing one of the Algorithm Workbench problems from Chapter 2 of your textbook. Then, update the question text. Finally, once you've completed the problem, please replace the high-level overview placeholder text with your own words describing your solution.]\n"
      ],
      "metadata": {
        "id": "dBl7Q9AZcLMU"
      }
    },
    {
      "cell_type": "code",
      "source": [
        "# add your code to this cell\n",
        "# remember to include comments like this one for every line of code\n",
        "# remember to \"Run cell\" once you're done, excecuting your code so the output is displayed below\n",
        "\n",
        "# Ask the user to enter the charge for the food\n",
        "food_charge = float(input(\"Enter the charge for the food: \")) # Get the food charge from the user and convert it to a floating-point number\n",
        "\n",
        "# Calculate the tip (18% of food charge)\n",
        "tip = food_charge * 0.18 # Calculate the tip by multiplying food charge by 0.18\n",
        "\n",
        "# Calculate the sales tax (7% of food charge)\n",
        "sales_tax = food_charge * 0.07 # Calculate the sales tax by multiplying food charge by 0.07\n",
        "\n",
        "# Calculate the total amount\n",
        "total = food_charge + tip + sales_tax # Calculate the total by adding food charge, tip, and sales tax\n",
        "\n",
        "# Display the amounts\n",
        "print(\"Tip (18%):\", tip) # Print the calculated tip\n",
        "print(\"Sales Tax (7%):\", sales_tax) # Print the calculated sales tax\n",
        "print(\"Total:\", total) # Print the calculated total"
      ],
      "metadata": {
        "id": "k4iGFPemb26z",
        "colab": {
          "base_uri": "https://localhost:8080/"
        },
        "outputId": "a1385df1-b29f-4bac-be10-3e729c144718"
      },
      "execution_count": 6,
      "outputs": [
        {
          "output_type": "stream",
          "name": "stdout",
          "text": [
            "Enter the charge for the food: 2.99\n",
            "Tip (18%): 0.5382\n",
            "Sales Tax (7%): 0.20930000000000004\n",
            "Total: 3.7375\n"
          ]
        }
      ]
    },
    {
      "cell_type": "markdown",
      "source": [
        "## Programming Exercises"
      ],
      "metadata": {
        "id": "2b2z_elQf2qP"
      }
    },
    {
      "cell_type": "markdown",
      "source": [
        "### Problem **1**\n",
        "\n",
        "#### Question Text\n",
        "\n",
        "Write a program that displays the following information for a student:\n",
        " Name            \n",
        " Address, with city, state, and ZIP            \n",
        "Telephone number           \n",
        "College major For privacy purposes, use fake information in your program. If you have trouble making up your own fake information, you can use the following randomly generated example:\n",
        " Cameron Calero2045 Heliport LoopRiverfolk, IN 43286812-555-1212144\n",
        "\n",
        "#### High-Level Overview\n",
        "\n",
        "*Well I had to make sure that the user could put their information first with input. So that way I could get all the information together and will be able to give it to the user at the end. That will be able to show them their information.*\n",
        "\n",
        "[Please double click this cell and update the problem number above, choosing one of the problems besides number 13 from the Chapter 2 Programming Exercises in your textbook. Then, update the question text. Finally, once you've completed the problem, please replace the high-level overview placeholder text with your own words describing your solution.]\n"
      ],
      "metadata": {
        "id": "klCvdzHvf74V"
      }
    },
    {
      "cell_type": "code",
      "source": [
        "# add your code to this cell\n",
        "# remember to include comments like this one for every line of code\n",
        "# remember to \"Run cell\" once you're done, excecuting your code so the output is displayed below\n",
        "\n",
        "# Get student information from the user\n",
        "name = input(\"Enter Name: \") # Get the student's name\n",
        "address = input(\"Enter Address: \") # Get the street address\n",
        "city_state_zip = input(\"Enter City, State, ZIP: \") # Get the city, state, and zip code\n",
        "phone_number = input(\"Enter Telephone number: \") # Get the telephone number\n",
        "college_major = input(\"Enter College major: \") # Get the college major\n",
        "\n",
        "# Display the entered information\n",
        "print(\"\\nStudent Information:\") # Print a header\n",
        "print(\"Name:\", name) # Print the entered name\n",
        "print(\"Address:\", address) # Print the entered address\n",
        "print(\"City, State, ZIP:\", city_state_zip) # Print the entered city, state, and zip code\n",
        "print(\"Telephone number:\", phone_number) # Print the entered telephone number\n",
        "print(\"College major:\", college_major) # Print the entered college major"
      ],
      "metadata": {
        "id": "iQooA6BWlvx5",
        "colab": {
          "base_uri": "https://localhost:8080/"
        },
        "outputId": "10215a07-9731-4af0-b79c-9cd8e9626f6d"
      },
      "execution_count": 4,
      "outputs": [
        {
          "output_type": "stream",
          "name": "stdout",
          "text": [
            "Enter Name: Yousif Abdo\n",
            "Enter Address: 123 Main sT\n",
            "Enter City, State, ZIP: Lansing, MI, 48813\n",
            "Enter Telephone number: 283749234\n",
            "Enter College major: farmer\n",
            "\n",
            "Student Information:\n",
            "Name: Yousif Abdo\n",
            "Address: 123 Main sT\n",
            "City, State, ZIP: Lansing, MI, 48813\n",
            "Telephone number: 283749234\n",
            "College major: farmer\n"
          ]
        }
      ]
    },
    {
      "cell_type": "markdown",
      "source": [
        "### Problem 2\n",
        "\n",
        "#### Question Text\n",
        "\n",
        "*2. Sales PredictionA company has determined that its annual profit is typically 23 percent of total sales. Write a program that asks the user to enter the projected amount of total sales, then displays the profit that will be made from that amount. Hint: Use the value 0.23 to represent 23 percent.*\n",
        "\n",
        "#### High-Level Overview\n",
        "\n",
        "*It took me awhile to find a solution that will find the total sales they made. That it will start to calculate with the equation by 0.23 for sale taxs. For they will be able to find the outcome for the profit they made.*\n"
      ],
      "metadata": {
        "id": "VxGugqDyxh_p"
      }
    },
    {
      "cell_type": "code",
      "source": [
        "# add your code to this cell\n",
        "# remember to include comments like this one for every line of code\n",
        "# remember to \"Run cell\" once you're done, excecuting your code so the output is displayed below\n",
        "\n",
        "# Ask the user to enter the projected amount of total sales\n",
        "total_sales = float(input(\"Enter the projected amount of total sales: \")) # Get the projected total sales from the user and convert it to a floating-point number\n",
        "\n",
        "# Calculate the profit (23% of total sales)\n",
        "profit = total_sales * 0.23 # Calculate the profit by multiplying total sales by 0.23\n",
        "\n",
        "# Display the calculated profit\n",
        "print(\"The projected profit is:\", profit) # Print the calculated profit"
      ],
      "metadata": {
        "id": "CCUIs3F5xhdd",
        "colab": {
          "base_uri": "https://localhost:8080/"
        },
        "outputId": "0c75a0e9-9eda-4aed-a479-752794177a35"
      },
      "execution_count": 5,
      "outputs": [
        {
          "output_type": "stream",
          "name": "stdout",
          "text": [
            "Enter the projected amount of total sales: 83920\n",
            "The projected profit is: 19301.600000000002\n"
          ]
        }
      ]
    },
    {
      "cell_type": "markdown",
      "source": [
        "## Helpful Checks\n",
        "\n",
        "1.   Did you comment every line of code with meaningful information that will help others reading your code?\n",
        "2.   Did you use appropriate names for your variables, functions, and/or classes?\n",
        "3.   Did you include a high-level explanation for each solution?\n",
        "4.   Did you run each cell that includes a final solution so the output is saved and easily viewed by others?\n",
        "5.   Are you sharing an editable link (i.e., Share > Anyone with the link > Editor) if using Colaboratory, or did you make more than ten commits if using GitHub?\n",
        "6.   Did you remember to comment on the submissions of two other students?"
      ],
      "metadata": {
        "id": "NxsN1n6_yXlW"
      }
    },
    {
      "cell_type": "code",
      "source": [],
      "metadata": {
        "id": "wxzLHFoJTksu"
      },
      "execution_count": null,
      "outputs": []
    }
  ]
}